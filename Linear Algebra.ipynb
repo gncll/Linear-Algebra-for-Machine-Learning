{
 "cells": [
  {
   "cell_type": "markdown",
   "id": "fa96b3e9",
   "metadata": {},
   "source": [
    "## One-d-array"
   ]
  },
  {
   "cell_type": "code",
   "execution_count": 18,
   "id": "62f3c3eb",
   "metadata": {
    "scrolled": true
   },
   "outputs": [
    {
     "data": {
      "text/plain": [
       "array([0.3, 0.2, 0.5])"
      ]
     },
     "execution_count": 18,
     "metadata": {},
     "output_type": "execute_result"
    }
   ],
   "source": [
    "one_d_array = np.array([0.3, 0.2, 0.5])\n",
    "one_d_array"
   ]
  },
  {
   "cell_type": "markdown",
   "id": "5a2503cb",
   "metadata": {},
   "source": [
    "## Scaling One-d-array"
   ]
  },
  {
   "cell_type": "code",
   "execution_count": 54,
   "id": "792852ca",
   "metadata": {},
   "outputs": [
    {
     "data": {
      "text/plain": [
       "array([0.6, 0.4, 1. ])"
      ]
     },
     "execution_count": 54,
     "metadata": {},
     "output_type": "execute_result"
    }
   ],
   "source": [
    "z = 2\n",
    "scaled_array = z * one_d_array\n",
    "scaled_array"
   ]
  },
  {
   "cell_type": "code",
   "execution_count": 42,
   "id": "48b34c3a",
   "metadata": {
    "scrolled": true
   },
   "outputs": [
    {
     "data": {
      "text/plain": [
       "(3,)"
      ]
     },
     "execution_count": 42,
     "metadata": {},
     "output_type": "execute_result"
    }
   ],
   "source": [
    "one_d_array.shape"
   ]
  },
  {
   "cell_type": "markdown",
   "id": "84573be4",
   "metadata": {},
   "source": [
    "## Two-d-array"
   ]
  },
  {
   "cell_type": "code",
   "execution_count": 52,
   "id": "80dbbf46",
   "metadata": {},
   "outputs": [
    {
     "data": {
      "text/plain": [
       "array([[ 0,  1,  2],\n",
       "       [10, 11, 12]])"
      ]
     },
     "execution_count": 52,
     "metadata": {},
     "output_type": "execute_result"
    }
   ],
   "source": [
    "two_d_array = np.array([[ 0,  1,  2],\n",
    "       [10, 11, 12]])\n",
    "two_d_array"
   ]
  },
  {
   "cell_type": "code",
   "execution_count": 48,
   "id": "d52b6b55",
   "metadata": {},
   "outputs": [
    {
     "data": {
      "text/plain": [
       "(2, 3)"
      ]
     },
     "execution_count": 48,
     "metadata": {},
     "output_type": "execute_result"
    }
   ],
   "source": [
    "two_d_array.shape"
   ]
  },
  {
   "cell_type": "markdown",
   "id": "fc7524d1",
   "metadata": {},
   "source": [
    "## Three-d-array"
   ]
  },
  {
   "cell_type": "code",
   "execution_count": 53,
   "id": "d8720522",
   "metadata": {},
   "outputs": [
    {
     "data": {
      "text/plain": [
       "array([[[1. , 2. , 3. ],\n",
       "        [3. , 4. , 5. ]],\n",
       "\n",
       "       [[5. , 6. , 7. ],\n",
       "        [7. , 8. , 9.5]]])"
      ]
     },
     "execution_count": 53,
     "metadata": {},
     "output_type": "execute_result"
    }
   ],
   "source": [
    "three_d_array = np.array([\n",
    "    [[1, 2, 3], \n",
    "     [3, 4, 5]], \n",
    "    [[5, 6, 7], \n",
    "     [7, 8, 9.5]]])\n",
    "three_d_array"
   ]
  },
  {
   "cell_type": "code",
   "execution_count": 50,
   "id": "61a663c4",
   "metadata": {},
   "outputs": [
    {
     "data": {
      "text/plain": [
       "(2, 2, 3)"
      ]
     },
     "execution_count": 50,
     "metadata": {},
     "output_type": "execute_result"
    }
   ],
   "source": [
    "three_d_array.shape"
   ]
  },
  {
   "cell_type": "markdown",
   "id": "de37c356",
   "metadata": {},
   "source": [
    "# L1 Norm"
   ]
  },
  {
   "cell_type": "code",
   "execution_count": 19,
   "id": "81d1503a",
   "metadata": {
    "scrolled": true
   },
   "outputs": [
    {
     "name": "stdout",
     "output_type": "stream",
     "text": [
      "1.0\n"
     ]
    }
   ],
   "source": [
    "from numpy import array\n",
    "from numpy.linalg import norm\n",
    "norm_l1 = norm(one_d_array, 1)\n",
    "print(norm_l1)"
   ]
  },
  {
   "cell_type": "markdown",
   "id": "f4dbffe6",
   "metadata": {},
   "source": [
    "## L2 Norm"
   ]
  },
  {
   "cell_type": "code",
   "execution_count": 58,
   "id": "6c006912",
   "metadata": {},
   "outputs": [
    {
     "name": "stdout",
     "output_type": "stream",
     "text": [
      "13.0\n"
     ]
    }
   ],
   "source": [
    "from numpy import array\n",
    "from numpy.linalg import norm\n",
    "arr = array([5,12])\n",
    "norm_l2 = norm(arr)\n",
    "print(norm_l2)"
   ]
  },
  {
   "cell_type": "markdown",
   "id": "a40e96ee",
   "metadata": {},
   "source": [
    "##  Vector Multipication"
   ]
  },
  {
   "cell_type": "code",
   "execution_count": 21,
   "id": "1649f08b",
   "metadata": {},
   "outputs": [
    {
     "name": "stdout",
     "output_type": "stream",
     "text": [
      "[12 20 30]\n"
     ]
    }
   ],
   "source": [
    "import numpy\n",
    "first =np.array([3,4,5])\n",
    "second = np.array([4,5,6])\n",
    "v_multipication = first * second\n",
    "print(v_multipication)"
   ]
  },
  {
   "cell_type": "markdown",
   "id": "1815314c",
   "metadata": {},
   "source": [
    "## Vector Dot Operation"
   ]
  },
  {
   "cell_type": "code",
   "execution_count": 23,
   "id": "5c4cb70b",
   "metadata": {},
   "outputs": [
    {
     "name": "stdout",
     "output_type": "stream",
     "text": [
      "62\n"
     ]
    }
   ],
   "source": [
    "import numpy\n",
    "first =np.array([3,4,5])\n",
    "second = np.array([4,5,6])\n",
    "v_multipication = first.dot(second)\n",
    "print(v_multipication)"
   ]
  },
  {
   "cell_type": "markdown",
   "id": "33c0fd93",
   "metadata": {},
   "source": [
    "## Matrix-Matrix Multipication"
   ]
  },
  {
   "cell_type": "code",
   "execution_count": 4,
   "id": "40716e91",
   "metadata": {},
   "outputs": [
    {
     "name": "stdout",
     "output_type": "stream",
     "text": [
      "[[31 36]\n",
      " [55 64]\n",
      " [79 92]]\n"
     ]
    }
   ],
   "source": [
    "from numpy import array\n",
    "first = array([[2,3],[4,5],[6,7]])\n",
    "second = array([[5,6],[7,8]])\n",
    "mm_multipication = first.dot(second)\n",
    "print(mm_multipication)"
   ]
  },
  {
   "cell_type": "code",
   "execution_count": 6,
   "id": "3be5cc7e",
   "metadata": {},
   "outputs": [
    {
     "data": {
      "text/plain": [
       "array([[2, 3],\n",
       "       [4, 5],\n",
       "       [6, 7]])"
      ]
     },
     "execution_count": 6,
     "metadata": {},
     "output_type": "execute_result"
    }
   ],
   "source": []
  },
  {
   "cell_type": "code",
   "execution_count": 5,
   "id": "28a19c2f",
   "metadata": {},
   "outputs": [
    {
     "data": {
      "text/plain": [
       "array([[5, 6],\n",
       "       [7, 8]])"
      ]
     },
     "execution_count": 5,
     "metadata": {},
     "output_type": "execute_result"
    }
   ],
   "source": [
    "second"
   ]
  },
  {
   "cell_type": "markdown",
   "id": "f1bd1bc6",
   "metadata": {},
   "source": [
    "## Matrix-Vector Multipication"
   ]
  },
  {
   "cell_type": "code",
   "execution_count": 2,
   "id": "e36fe4a1",
   "metadata": {},
   "outputs": [
    {
     "name": "stdout",
     "output_type": "stream",
     "text": [
      "[18 32]\n"
     ]
    }
   ],
   "source": [
    "from numpy import array\n",
    "first = array([[2,3],[4,5]])\n",
    "second= array([3, 4])\n",
    "mv_multipication = first.dot(second)\n",
    "print(mv_multipication)"
   ]
  },
  {
   "cell_type": "markdown",
   "id": "36efd286",
   "metadata": {},
   "source": [
    "## Matrix-Scalar Multipication"
   ]
  },
  {
   "cell_type": "code",
   "execution_count": 6,
   "id": "34d9c5d7",
   "metadata": {
    "scrolled": true
   },
   "outputs": [
    {
     "name": "stdout",
     "output_type": "stream",
     "text": [
      "[[ 6  9]\n",
      " [12 15]]\n"
     ]
    }
   ],
   "source": [
    "from numpy import array\n",
    "first = array([[2,3],[4,5]])\n",
    "scalar= 3\n",
    "ms_multipication = first * scalar \n",
    "print(ms_multipication)"
   ]
  },
  {
   "cell_type": "markdown",
   "id": "4381cf18",
   "metadata": {},
   "source": [
    "## Transpose"
   ]
  },
  {
   "cell_type": "code",
   "execution_count": 9,
   "id": "c30cce98",
   "metadata": {
    "scrolled": false
   },
   "outputs": [
    {
     "name": "stdout",
     "output_type": "stream",
     "text": [
      "[[2 3]\n",
      " [4 5]\n",
      " [6 7]]\n",
      "[[2 4 6]\n",
      " [3 5 7]]\n"
     ]
    }
   ],
   "source": [
    "from numpy import array\n",
    "first = array([[2,3],[4,5],[6,7]])\n",
    "print(first)\n",
    "transpose = first.T\n",
    "print(transpose)"
   ]
  },
  {
   "cell_type": "markdown",
   "id": "aacf6650",
   "metadata": {},
   "source": [
    "## Inverse"
   ]
  },
  {
   "cell_type": "code",
   "execution_count": 12,
   "id": "d6a7aea8",
   "metadata": {
    "scrolled": true
   },
   "outputs": [
    {
     "name": "stdout",
     "output_type": "stream",
     "text": [
      "[[-2.5  1.5]\n",
      " [ 2.  -1. ]]\n"
     ]
    }
   ],
   "source": [
    "from numpy import array\n",
    "import numpy as np\n",
    "first = array([[2,3],[4,5]])\n",
    "second = np.linalg.inv(first)\n",
    "print(second)"
   ]
  },
  {
   "cell_type": "markdown",
   "id": "93688a71",
   "metadata": {},
   "source": [
    "## Determinant"
   ]
  },
  {
   "cell_type": "code",
   "execution_count": 14,
   "id": "dcdfccc4",
   "metadata": {},
   "outputs": [
    {
     "name": "stdout",
     "output_type": "stream",
     "text": [
      "-2.0\n"
     ]
    }
   ],
   "source": [
    "from numpy import array\n",
    "import numpy as np\n",
    "first = array([[2,3],[4,5]])\n",
    "second = np.linalg.det(first)\n",
    "print(second)"
   ]
  },
  {
   "cell_type": "markdown",
   "id": "78089bed",
   "metadata": {},
   "source": [
    "# Special Matrixes"
   ]
  },
  {
   "cell_type": "markdown",
   "id": "6c984be7",
   "metadata": {},
   "source": [
    "## Square Matrix"
   ]
  },
  {
   "cell_type": "code",
   "execution_count": 52,
   "id": "c8264020",
   "metadata": {},
   "outputs": [
    {
     "name": "stdout",
     "output_type": "stream",
     "text": [
      "Matrix shape is: (3, 3) \n",
      "Number of row:3 \n",
      "Number of column:3\n"
     ]
    }
   ],
   "source": [
    "first = array([[2,3,8],[4,5,9],[6,7,1]])\n",
    "shape = first.shape\n",
    "row = first.shape[0]\n",
    "column = first.shape[1]\n",
    "print('Matrix shape is: {} \\nNumber of row:{} \\nNumber of column:{}'.format(shape,column,row))"
   ]
  },
  {
   "cell_type": "markdown",
   "id": "4bfe234e",
   "metadata": {},
   "source": [
    "## Identity Matrix"
   ]
  },
  {
   "cell_type": "code",
   "execution_count": 53,
   "id": "8ed0a8da",
   "metadata": {
    "scrolled": false
   },
   "outputs": [
    {
     "name": "stdout",
     "output_type": "stream",
     "text": [
      "[[1. 0. 0. 0. 0.]\n",
      " [0. 1. 0. 0. 0.]\n",
      " [0. 0. 1. 0. 0.]\n",
      " [0. 0. 0. 1. 0.]\n",
      " [0. 0. 0. 0. 1.]]\n"
     ]
    }
   ],
   "source": [
    "from numpy import identity\n",
    "Identity = identity(5)\n",
    "print(Identity)"
   ]
  },
  {
   "cell_type": "markdown",
   "id": "60627734",
   "metadata": {},
   "source": [
    "## Diagonal Matrix"
   ]
  },
  {
   "cell_type": "code",
   "execution_count": 58,
   "id": "1c83f016",
   "metadata": {
    "scrolled": true
   },
   "outputs": [
    {
     "data": {
      "text/plain": [
       "array([[2, 0, 0],\n",
       "       [0, 5, 0],\n",
       "       [0, 0, 1]])"
      ]
     },
     "execution_count": 58,
     "metadata": {},
     "output_type": "execute_result"
    }
   ],
   "source": [
    "import numpy as np\n",
    "first = np. array([[2,0,0],[0,5,0],[0,0,1]])\n",
    "first"
   ]
  },
  {
   "cell_type": "markdown",
   "id": "4eab9fe8",
   "metadata": {},
   "source": [
    "# Reshaping Dimension"
   ]
  },
  {
   "cell_type": "markdown",
   "id": "7cc3f74d",
   "metadata": {},
   "source": [
    "## 1D to 2D"
   ]
  },
  {
   "cell_type": "code",
   "execution_count": 84,
   "id": "a2c993d7",
   "metadata": {
    "scrolled": true
   },
   "outputs": [
    {
     "name": "stdout",
     "output_type": "stream",
     "text": [
      "(3,)\n",
      "(3, 1)\n"
     ]
    }
   ],
   "source": [
    "import numpy as np\n",
    "one_d_array = np.array([0.3, 0.2, 0.5])\n",
    "print(one_d_array.shape)\n",
    "reshaped = one_d_array.reshape(one_d_array.shape[0], 1)\n",
    "print(reshaped.shape)"
   ]
  },
  {
   "cell_type": "markdown",
   "id": "22ba40ba",
   "metadata": {},
   "source": [
    "## 2D to 3D"
   ]
  },
  {
   "cell_type": "code",
   "execution_count": 7,
   "id": "648d4011",
   "metadata": {},
   "outputs": [
    {
     "name": "stdout",
     "output_type": "stream",
     "text": [
      "(3, 3)\n",
      "(3, 3, 1)\n"
     ]
    }
   ],
   "source": [
    "import numpy as np\n",
    "first = np.array([[2,0,0],[0,5,0],[0,0,1]])\n",
    "print(first.shape)\n",
    "reshaped = first.reshape(first.shape[0], first.shape[1],1)\n",
    "print(reshaped.shape)"
   ]
  }
 ],
 "metadata": {
  "kernelspec": {
   "display_name": "Python 3 (ipykernel)",
   "language": "python",
   "name": "python3"
  },
  "language_info": {
   "codemirror_mode": {
    "name": "ipython",
    "version": 3
   },
   "file_extension": ".py",
   "mimetype": "text/x-python",
   "name": "python",
   "nbconvert_exporter": "python",
   "pygments_lexer": "ipython3",
   "version": "3.9.7"
  }
 },
 "nbformat": 4,
 "nbformat_minor": 5
}
